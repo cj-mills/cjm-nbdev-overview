{
 "cells": [
  {
   "cell_type": "markdown",
   "id": "b4e1bc5d-85b4-4577-b19d-144ad34f49cc",
   "metadata": {},
   "source": [
    "# Dependency Analysis and Visualization\n",
    "\n",
    "> Analyze cross-notebook imports and generate Mermaid.js dependency diagrams"
   ]
  },
  {
   "cell_type": "code",
   "execution_count": null,
   "id": "f667bd0b-1275-4991-b48e-a4393a11a095",
   "metadata": {},
   "outputs": [],
   "source": [
    "#| default_exp dependencies"
   ]
  },
  {
   "cell_type": "code",
   "execution_count": null,
   "id": "9a082717-b09f-4b85-8823-9fff856ee0cb",
   "metadata": {},
   "outputs": [],
   "source": [
    "#| hide\n",
    "from nbdev.showdoc import *"
   ]
  },
  {
   "cell_type": "code",
   "execution_count": null,
   "id": "c8a7c790-6750-4264-a105-42f3a6c564e8",
   "metadata": {},
   "outputs": [],
   "source": [
    "#| export\n",
    "from __future__ import annotations\n",
    "from pathlib import Path\n",
    "from typing import List, Dict, Set, Tuple, Optional\n",
    "from dataclasses import dataclass, field\n",
    "from nbdev.config import get_config\n",
    "from cjm_nbdev_overview.core import *\n",
    "from cjm_nbdev_overview.parsers import *\n",
    "import re\n",
    "from collections import defaultdict"
   ]
  },
  {
   "cell_type": "markdown",
   "id": "06903b72-a7f5-4a62-a807-935defafc64e",
   "metadata": {},
   "source": [
    "## Data Models"
   ]
  },
  {
   "cell_type": "code",
   "execution_count": null,
   "id": "c0cab878-0cf7-4e21-bab9-90988db4dec8",
   "metadata": {},
   "outputs": [],
   "source": [
    "#| export\n",
    "@dataclass\n",
    "class ModuleDependency:\n",
    "    \"Represents a dependency between modules\"\n",
    "    source: str                                 # Source module name\n",
    "    target: str                                 # Target module name\n",
    "    import_type: str                            # Type of import (from/import)\n",
    "    imported_names: List[str] = field(default_factory=list)  # Specific names imported"
   ]
  },
  {
   "cell_type": "code",
   "execution_count": null,
   "id": "403dc5ff-d66f-4212-a770-322ed4d21c67",
   "metadata": {},
   "outputs": [],
   "source": [
    "#| export\n",
    "@dataclass\n",
    "class DependencyGraph:\n",
    "    \"Dependency graph for a project\"\n",
    "    modules: Dict[str, ModuleInfo] = field(default_factory=dict)  # Module name -> ModuleInfo\n",
    "    dependencies: List[ModuleDependency] = field(default_factory=list)  # All dependencies\n",
    "    \n",
    "    def add_module(\n",
    "        self,\n",
    "        module: ModuleInfo  # TODO: Add description\n",
    "    ): # Add a module to the graph - TODO: Add type hint\n",
    "        \"Add a module to the dependency graph\"\n",
    "        self.modules[module.name] = module\n",
    "    \n",
    "    def add_dependency(\n",
    "        self,\n",
    "        dep: ModuleDependency  # TODO: Add description\n",
    "    ): # Add a dependency - TODO: Add type hint\n",
    "        \"Add a dependency to the graph\"\n",
    "        self.dependencies.append(dep)\n",
    "    \n",
    "    def get_module_dependencies(self, module_name: str  # Module to query\n",
    "                               ) -> List[ModuleDependency]:  # Dependencies\n",
    "        \"Get all dependencies for a specific module\"\n",
    "        return [d for d in self.dependencies if d.source == module_name]\n",
    "    \n",
    "    def get_module_dependents(self, module_name: str    # Module to query\n",
    "                             ) -> List[ModuleDependency]:  # Dependents\n",
    "        \"Get all modules that depend on a specific module\"\n",
    "        return [d for d in self.dependencies if d.target == module_name]"
   ]
  },
  {
   "cell_type": "markdown",
   "id": "0a2f5d62-2548-4959-bda8-c48686fd50ad",
   "metadata": {},
   "source": [
    "## Import Analysis"
   ]
  },
  {
   "cell_type": "code",
   "execution_count": null,
   "id": "44adb9f5-8ae4-4d5d-bd52-dd60091a54e3",
   "metadata": {},
   "outputs": [],
   "source": [
    "#| export\n",
    "def extract_project_imports(import_str: str,            # Import statement\n",
    "                           project_name: str            # Project package name\n",
    "                           ) -> Optional[ModuleDependency]:  # Dependency if internal\n",
    "    \"Extract project-internal imports from an import statement\"\n",
    "    # Check for 'from X import Y' pattern\n",
    "    from_match = re.match(r'from\\s+(\\S+)\\s+import\\s+(.+)', import_str)\n",
    "    if from_match:\n",
    "        module = from_match.group(1)\n",
    "        imports = from_match.group(2)\n",
    "        \n",
    "        # Check if it's a project import\n",
    "        if module.startswith(project_name):\n",
    "            # Extract the module name after project name\n",
    "            module_parts = module.split('.')\n",
    "            if len(module_parts) > 1:\n",
    "                target_module = module_parts[1]  # Get the module after project name\n",
    "                \n",
    "                # Parse imported names\n",
    "                imported_names = [name.strip() for name in imports.split(',')]\n",
    "                # Handle 'import *'\n",
    "                if imported_names == ['*']:\n",
    "                    imported_names = ['*']\n",
    "                \n",
    "                return ModuleDependency(\n",
    "                    source=\"\",  # Will be filled by caller\n",
    "                    target=target_module,\n",
    "                    import_type=\"from\",\n",
    "                    imported_names=imported_names\n",
    "                )\n",
    "    \n",
    "    # Check for 'import X' pattern\n",
    "    import_match = re.match(r'import\\s+(\\S+)', import_str)\n",
    "    if import_match:\n",
    "        module = import_match.group(1)\n",
    "        \n",
    "        # Check if it's a project import\n",
    "        if module.startswith(project_name):\n",
    "            module_parts = module.split('.')\n",
    "            if len(module_parts) > 1:\n",
    "                target_module = module_parts[1]\n",
    "                \n",
    "                return ModuleDependency(\n",
    "                    source=\"\",  # Will be filled by caller\n",
    "                    target=target_module,\n",
    "                    import_type=\"import\",\n",
    "                    imported_names=[target_module]\n",
    "                )\n",
    "    \n",
    "    return None"
   ]
  },
  {
   "cell_type": "code",
   "execution_count": null,
   "id": "76978c2e-17d5-4b66-b080-0d5308cb4d9c",
   "metadata": {},
   "outputs": [],
   "source": [
    "#| export\n",
    "def analyze_module_dependencies(module: ModuleInfo,     # Module to analyze\n",
    "                               project_name: str        # Project package name\n",
    "                               ) -> List[ModuleDependency]:  # Dependencies found\n",
    "    \"Analyze a module's imports to find project-internal dependencies\"\n",
    "    dependencies = []\n",
    "    \n",
    "    for import_str in module.imports:\n",
    "        dep = extract_project_imports(import_str, project_name)\n",
    "        if dep:\n",
    "            dep.source = module.name\n",
    "            dependencies.append(dep)\n",
    "    \n",
    "    return dependencies"
   ]
  },
  {
   "cell_type": "markdown",
   "id": "44a8b2c8-4bcf-4832-bdac-1aff6ef10252",
   "metadata": {},
   "source": [
    "## Building Dependency Graph"
   ]
  },
  {
   "cell_type": "code",
   "execution_count": null,
   "id": "c70c9b5e-09eb-4945-a532-9c01b00d6994",
   "metadata": {},
   "outputs": [],
   "source": [
    "#| export\n",
    "def build_dependency_graph(path: Path = None,           # Project path\n",
    "                          project_name: Optional[str] = None  # Override project name\n",
    "                          ) -> DependencyGraph:         # Dependency graph\n",
    "    \"Build a dependency graph for all modules in a project\"\n",
    "    if path is None:\n",
    "        cfg = get_config()\n",
    "        path = cfg.nbs_path\n",
    "    \n",
    "    # Get project name from config if not provided\n",
    "    if project_name is None:\n",
    "        cfg = get_config()\n",
    "        project_name = cfg.lib_name.replace('-', '_')\n",
    "    \n",
    "    graph = DependencyGraph()\n",
    "    \n",
    "    # Get all notebooks\n",
    "    notebooks = get_notebook_files(path, recursive=True)\n",
    "    \n",
    "    # Parse each notebook and analyze dependencies\n",
    "    for nb_path in notebooks:\n",
    "        # Skip index notebooks\n",
    "        if nb_path.stem in ['index', '00_index']:\n",
    "            continue\n",
    "        \n",
    "        try:\n",
    "            # Parse the notebook\n",
    "            module_info = parse_notebook(nb_path)\n",
    "            graph.add_module(module_info)\n",
    "            \n",
    "            # Analyze dependencies\n",
    "            dependencies = analyze_module_dependencies(module_info, project_name)\n",
    "            for dep in dependencies:\n",
    "                graph.add_dependency(dep)\n",
    "        \n",
    "        except Exception as e:\n",
    "            print(f\"Error processing {nb_path}: {e}\")\n",
    "            continue\n",
    "    \n",
    "    return graph"
   ]
  },
  {
   "cell_type": "markdown",
   "id": "125a5226-5173-4f62-87da-e304fbc38cd6",
   "metadata": {},
   "source": [
    "## Mermaid.js Diagram Generation"
   ]
  },
  {
   "cell_type": "code",
   "execution_count": null,
   "id": "30c84978-cb61-4fa5-94af-80cf7216aa34",
   "metadata": {},
   "outputs": [],
   "source": [
    "#| export\n",
    "def generate_mermaid_diagram(graph: DependencyGraph,    # Dependency graph\n",
    "                           direction: str = \"TD\",       # Diagram direction (TD/LR)\n",
    "                           show_imports: bool = False   # Show imported names\n",
    "                           ) -> str:                    # Mermaid diagram code\n",
    "    \"Generate a Mermaid.js dependency diagram from a dependency graph\"\n",
    "    lines = []\n",
    "    lines.append(f\"```mermaid\")\n",
    "    lines.append(f\"graph {direction}\")\n",
    "    \n",
    "    # Add nodes with descriptions\n",
    "    for module_name, module_info in graph.modules.items():\n",
    "        # Create node label\n",
    "        if module_info.title:\n",
    "            label = f\"{module_name}[{module_name}<br/>{module_info.title}]\"\n",
    "        else:\n",
    "            label = f\"{module_name}[{module_name}]\"\n",
    "        lines.append(f\"    {label}\")\n",
    "    \n",
    "    lines.append(\"\")  # Empty line for readability\n",
    "    \n",
    "    # Add edges\n",
    "    for dep in graph.dependencies:\n",
    "        if show_imports and dep.imported_names:\n",
    "            # Show what's imported\n",
    "            imports = ', '.join(dep.imported_names[:3])  # Limit to 3\n",
    "            if len(dep.imported_names) > 3:\n",
    "                imports += '...'\n",
    "            lines.append(f'    {dep.source} -->|\"{imports}\"| {dep.target}')\n",
    "        else:\n",
    "            lines.append(f\"    {dep.source} --> {dep.target}\")\n",
    "    \n",
    "    # Add styling\n",
    "    lines.append(\"\")\n",
    "    lines.append(\"    classDef default fill:#f9f9f9,stroke:#333,stroke-width:2px\")\n",
    "    \n",
    "    lines.append(\"```\")\n",
    "    \n",
    "    return '\\n'.join(lines)"
   ]
  },
  {
   "cell_type": "code",
   "execution_count": null,
   "id": "c633a6a5-187b-4ca4-aeaf-ffd023afa826",
   "metadata": {},
   "outputs": [],
   "source": [
    "#| export\n",
    "def generate_dependency_matrix(graph: DependencyGraph   # Dependency graph\n",
    "                              ) -> str:                 # Markdown table\n",
    "    \"Generate a dependency matrix showing which modules depend on which\"\n",
    "    # Get all module names sorted\n",
    "    modules = sorted(graph.modules.keys())\n",
    "    \n",
    "    if not modules:\n",
    "        return \"No modules found\"\n",
    "    \n",
    "    # Build dependency map\n",
    "    dep_map = defaultdict(set)\n",
    "    for dep in graph.dependencies:\n",
    "        dep_map[dep.source].add(dep.target)\n",
    "    \n",
    "    # Create table header\n",
    "    lines = []\n",
    "    header = \"| Module | \" + \" | \".join(modules) + \" |\"\n",
    "    separator = \"|--------|\" + \"\".join([\"----|\" for _ in modules])\n",
    "    \n",
    "    lines.append(header)\n",
    "    lines.append(separator)\n",
    "    \n",
    "    # Create rows\n",
    "    for source in modules:\n",
    "        row = f\"| {source} |\"\n",
    "        for target in modules:\n",
    "            if target in dep_map[source]:\n",
    "                row += \" ✓ |\"\n",
    "            else:\n",
    "                row += \"   |\"\n",
    "        lines.append(row)\n",
    "    \n",
    "    return '\\n'.join(lines)"
   ]
  },
  {
   "cell_type": "markdown",
   "id": "f99acb9e-dec4-476a-9734-4651a26bbf77",
   "metadata": {},
   "source": [
    "## Testing\n",
    "\n",
    "Let's test the dependency analysis on our project:"
   ]
  },
  {
   "cell_type": "code",
   "execution_count": null,
   "id": "87776307-d8b5-4d5c-aafd-8df32dd00371",
   "metadata": {},
   "outputs": [
    {
     "name": "stdout",
     "output_type": "stream",
     "text": [
      "Found 8 modules with 14 dependencies\n"
     ]
    }
   ],
   "source": [
    "# Build dependency graph\n",
    "graph = build_dependency_graph()\n",
    "print(f\"Found {len(graph.modules)} modules with {len(graph.dependencies)} dependencies\")"
   ]
  },
  {
   "cell_type": "code",
   "execution_count": null,
   "id": "7d25f379-e313-4fc8-a945-b5362dd7c828",
   "metadata": {},
   "outputs": [
    {
     "name": "stdout",
     "output_type": "stream",
     "text": [
      "\n",
      "api_docs depends on:\n",
      "  - tree: *\n",
      "  - core: *\n",
      "  - parsers: *\n",
      "\n",
      "cli depends on:\n",
      "  - tree: *\n",
      "  - parsers: *\n",
      "  - api_docs: *\n",
      "  - dependencies: *\n",
      "\n",
      "dependencies depends on:\n",
      "  - core: *\n",
      "  - parsers: *\n",
      "\n",
      "generators depends on:\n",
      "  - tree: *\n",
      "  - core: *\n",
      "\n",
      "parsers depends on:\n",
      "  - core: *\n",
      "  - tree: extract_notebook_info\n",
      "\n",
      "tree depends on:\n",
      "  - core: *\n"
     ]
    }
   ],
   "source": [
    "# Show dependencies for each module\n",
    "for module_name in sorted(graph.modules.keys()):\n",
    "    deps = graph.get_module_dependencies(module_name)\n",
    "    if deps:\n",
    "        print(f\"\\n{module_name} depends on:\")\n",
    "        for dep in deps:\n",
    "            print(f\"  - {dep.target}: {', '.join(dep.imported_names)}\")"
   ]
  },
  {
   "cell_type": "code",
   "execution_count": null,
   "id": "d3097cb0-5f18-43cb-9945-af3ad69db54a",
   "metadata": {},
   "outputs": [
    {
     "name": "stdout",
     "output_type": "stream",
     "text": [
      "\n",
      "## Dependency Diagram\n",
      "\n",
      "```mermaid\n",
      "graph LR\n",
      "    core[core<br/>Core Utilities]\n",
      "    parsers[parsers<br/>Notebook and Module Parsing]\n",
      "    tree[tree<br/>Directory Tree Visualization]\n",
      "    api_docs[api_docs<br/>API Documentation Generation]\n",
      "    dependencies[dependencies<br/>Dependency Analysis and Visualization]\n",
      "    generators[generators<br/>Auto-generation Utilities]\n",
      "    cli[cli<br/>Command-Line Interface]\n",
      "    07_api[07_api]\n",
      "\n",
      "    parsers --> core\n",
      "    parsers --> tree\n",
      "    tree --> core\n",
      "    api_docs --> tree\n",
      "    api_docs --> core\n",
      "    api_docs --> parsers\n",
      "    dependencies --> core\n",
      "    dependencies --> parsers\n",
      "    generators --> tree\n",
      "    generators --> core\n",
      "    cli --> tree\n",
      "    cli --> parsers\n",
      "    cli --> api_docs\n",
      "    cli --> dependencies\n",
      "\n",
      "    classDef default fill:#f9f9f9,stroke:#333,stroke-width:2px\n",
      "```\n"
     ]
    }
   ],
   "source": [
    "# Generate Mermaid diagram\n",
    "print(\"\\n## Dependency Diagram\\n\")\n",
    "print(generate_mermaid_diagram(graph, direction=\"LR\"))"
   ]
  },
  {
   "cell_type": "code",
   "execution_count": null,
   "id": "f9e68c6f-3a79-4533-b83d-facc7462ca24",
   "metadata": {},
   "outputs": [
    {
     "name": "stdout",
     "output_type": "stream",
     "text": [
      "\n",
      "## Dependency Matrix\n",
      "\n",
      "| Module | 07_api | api_docs | cli | core | dependencies | generators | parsers | tree |\n",
      "|--------|----|----|----|----|----|----|----|----|\n",
      "| 07_api |   |   |   |   |   |   |   |   |\n",
      "| api_docs |   |   |   | ✓ |   |   | ✓ | ✓ |\n",
      "| cli |   | ✓ |   |   | ✓ |   | ✓ | ✓ |\n",
      "| core |   |   |   |   |   |   |   |   |\n",
      "| dependencies |   |   |   | ✓ |   |   | ✓ |   |\n",
      "| generators |   |   |   | ✓ |   |   |   | ✓ |\n",
      "| parsers |   |   |   | ✓ |   |   |   | ✓ |\n",
      "| tree |   |   |   | ✓ |   |   |   |   |\n"
     ]
    }
   ],
   "source": [
    "# Generate dependency matrix\n",
    "print(\"\\n## Dependency Matrix\\n\")\n",
    "print(generate_dependency_matrix(graph))"
   ]
  },
  {
   "cell_type": "code",
   "execution_count": null,
   "id": "07e9bfe6-8ca9-4ef0-bc60-b00cb0c0d1ff",
   "metadata": {},
   "outputs": [],
   "source": []
  },
  {
   "cell_type": "code",
   "execution_count": null,
   "id": "b9ea070d-f6af-4e60-883f-2f61356cf180",
   "metadata": {},
   "outputs": [],
   "source": []
  },
  {
   "cell_type": "code",
   "execution_count": null,
   "id": "5e4c0634-1598-4b32-91e6-8504884fe4c3",
   "metadata": {},
   "outputs": [],
   "source": []
  },
  {
   "cell_type": "code",
   "execution_count": null,
   "id": "a84de718-b476-467d-a860-aeb0e2bb35c7",
   "metadata": {},
   "outputs": [],
   "source": []
  },
  {
   "cell_type": "code",
   "execution_count": null,
   "id": "9857c1cb-6033-435c-896b-b5fbf94b3d9a",
   "metadata": {},
   "outputs": [],
   "source": []
  },
  {
   "cell_type": "code",
   "execution_count": null,
   "id": "84701fb3-08b7-440b-b384-5d523d35e15d",
   "metadata": {},
   "outputs": [],
   "source": []
  },
  {
   "cell_type": "code",
   "execution_count": null,
   "id": "a0c916e0-1273-4439-9351-2bf3dd5d2578",
   "metadata": {},
   "outputs": [],
   "source": []
  },
  {
   "cell_type": "code",
   "execution_count": null,
   "id": "48616a8d-30e8-4c07-a8d7-dfe9f8ba5300",
   "metadata": {},
   "outputs": [],
   "source": []
  },
  {
   "cell_type": "code",
   "execution_count": null,
   "id": "ac83fec3-9d84-45ff-99e1-2898047bc7ab",
   "metadata": {},
   "outputs": [],
   "source": []
  },
  {
   "cell_type": "code",
   "execution_count": null,
   "id": "af55d84c-b778-4a1a-9a49-760ca0be9342",
   "metadata": {},
   "outputs": [],
   "source": []
  },
  {
   "cell_type": "code",
   "execution_count": null,
   "id": "ded3be07-d164-41ad-a08b-203b93b35ba6",
   "metadata": {},
   "outputs": [],
   "source": []
  },
  {
   "cell_type": "code",
   "execution_count": null,
   "id": "3e9ce6b8-c083-4cf8-b200-69c17575539c",
   "metadata": {},
   "outputs": [],
   "source": []
  },
  {
   "cell_type": "code",
   "execution_count": null,
   "id": "41cf27a7-c70a-4e32-8996-29817cb8430b",
   "metadata": {},
   "outputs": [],
   "source": []
  },
  {
   "cell_type": "code",
   "execution_count": null,
   "id": "fc14dcd0-4955-4d16-b0ce-cb5207aa0323",
   "metadata": {},
   "outputs": [],
   "source": []
  },
  {
   "cell_type": "code",
   "execution_count": null,
   "id": "a083c73a-a988-4fa7-9bdc-ebd8a16b769d",
   "metadata": {},
   "outputs": [],
   "source": []
  },
  {
   "cell_type": "code",
   "execution_count": null,
   "id": "e6a20aee-c096-407b-a715-048f29f59ea8",
   "metadata": {},
   "outputs": [],
   "source": []
  },
  {
   "cell_type": "code",
   "execution_count": null,
   "id": "1c1a778d-8ee7-45e5-b8d6-e179ad26c35a",
   "metadata": {},
   "outputs": [],
   "source": []
  },
  {
   "cell_type": "code",
   "execution_count": null,
   "id": "bfcfcbbc-aebb-49fd-9c98-f88b74790582",
   "metadata": {},
   "outputs": [],
   "source": []
  },
  {
   "cell_type": "code",
   "execution_count": null,
   "id": "c3bcce83-5c51-43c7-9c65-e96906db1e40",
   "metadata": {},
   "outputs": [],
   "source": [
    "#| hide\n",
    "import nbdev; nbdev.nbdev_export()"
   ]
  }
 ],
 "metadata": {
  "kernelspec": {
   "display_name": "python3",
   "language": "python",
   "name": "python3"
  }
 },
 "nbformat": 4,
 "nbformat_minor": 5
}
