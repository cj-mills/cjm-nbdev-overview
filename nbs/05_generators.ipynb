{
 "cells": [
  {
   "cell_type": "markdown",
   "id": "e48c2c8b-7013-4fed-ab67-9fdf312498dd",
   "metadata": {},
   "source": [
    "# Auto-generation Utilities\n",
    "\n",
    "> Auto-generate folder_name.ipynb notebooks for nbdev project organization"
   ]
  },
  {
   "cell_type": "code",
   "execution_count": null,
   "id": "27602807-58b6-445e-b44f-57cf9355de5b",
   "metadata": {},
   "outputs": [],
   "source": [
    "#| default_exp generators"
   ]
  },
  {
   "cell_type": "code",
   "execution_count": null,
   "id": "a4a6a519-eb69-47c8-b10d-2b5fd43ef494",
   "metadata": {},
   "outputs": [],
   "source": [
    "#| export\n",
    "from __future__ import annotations\n",
    "from pathlib import Path\n",
    "from typing import List, Dict, Any, Optional\n",
    "from datetime import datetime\n",
    "from nbdev.config import get_config\n",
    "from execnb.nbio import *\n",
    "from fastcore.all import *\n",
    "from cjm_nbdev_overview.core import *\n",
    "from cjm_nbdev_overview.tree import *"
   ]
  },
  {
   "cell_type": "markdown",
   "id": "63c8e719-10f7-41c9-a523-396e16f94544",
   "metadata": {},
   "source": [
    "## Notebook Generation"
   ]
  },
  {
   "cell_type": "code",
   "execution_count": null,
   "id": "3f9b4bc7-21a2-40d9-8560-ca061915c391",
   "metadata": {},
   "outputs": [],
   "source": [
    "#| export\n",
    "def create_folder_notebook(folder_path: Path,           # Path to folder\n",
    "                          title: str,                   # Notebook title\n",
    "                          description: str              # Folder description\n",
    "                          ) -> List[NbCell]:            # List of notebook cells\n",
    "    \"Create cells for a folder notebook with proper nbdev structure\"\n",
    "    cells = []\n",
    "    \n",
    "    # Title cell with description\n",
    "    title_cell = mk_cell(\n",
    "        f\"# {title}\\n\\n> {description}\",\n",
    "        cell_type='markdown'\n",
    "    )\n",
    "    cells.append(title_cell)\n",
    "    \n",
    "    # Default export cell\n",
    "    export_cell = mk_cell(\n",
    "        f\"#| default_exp {folder_path.name}.__init__\",\n",
    "        cell_type='code'\n",
    "    )\n",
    "    cells.append(export_cell)\n",
    "    \n",
    "    # Import cell\n",
    "    import_cell = mk_cell(\n",
    "        \"#| export\\n# This module serves as the package root for this folder\",\n",
    "        cell_type='code'\n",
    "    )\n",
    "    cells.append(import_cell)\n",
    "    \n",
    "    # Documentation cell\n",
    "    doc_cell = mk_cell(\n",
    "        f\"## Overview\\n\\nThis folder contains notebooks related to {description.lower()}.\",\n",
    "        cell_type='markdown'\n",
    "    )\n",
    "    cells.append(doc_cell)\n",
    "    \n",
    "    # List notebooks in folder\n",
    "    notebooks = get_notebook_files(folder_path, recursive=False)\n",
    "    if notebooks:\n",
    "        nb_list = []\n",
    "        nb_list.append(\"## Notebooks in this folder:\\n\")\n",
    "        for nb in notebooks:\n",
    "            if nb.stem != folder_path.name:  # Skip the folder notebook itself\n",
    "                nb_info = extract_notebook_info(nb)\n",
    "                if nb_info.description:\n",
    "                    nb_list.append(f\"- `{nb.name}`: {nb_info.description}\")\n",
    "                else:\n",
    "                    nb_list.append(f\"- `{nb.name}`\")\n",
    "        \n",
    "        if len(nb_list) > 1:  # Only add if there are other notebooks\n",
    "            notebooks_cell = mk_cell(\n",
    "                '\\n'.join(nb_list),\n",
    "                cell_type='markdown'\n",
    "            )\n",
    "            cells.append(notebooks_cell)\n",
    "    \n",
    "    # Export cell at the end\n",
    "    export_final_cell = mk_cell(\n",
    "        \"#| hide\\nimport nbdev; nbdev.nbdev_export()\",\n",
    "        cell_type='code'\n",
    "    )\n",
    "    cells.append(export_final_cell)\n",
    "    \n",
    "    return cells"
   ]
  },
  {
   "cell_type": "markdown",
   "id": "9758ebcf-74de-44f6-a1a3-0563d1d720b1",
   "metadata": {},
   "source": [
    "## Folder Notebook Generation"
   ]
  },
  {
   "cell_type": "code",
   "execution_count": null,
   "id": "39411d15-112f-4a7a-a369-725f9d68329e",
   "metadata": {},
   "outputs": [],
   "source": [
    "#| export\n",
    "def generate_folder_notebook(folder_path: Path,         # Path to folder\n",
    "                           title: Optional[str] = None, # Custom title\n",
    "                           description: Optional[str] = None, # Custom description\n",
    "                           overwrite: bool = False      # Overwrite existing\n",
    "                           ) -> Path:                   # Path to created notebook\n",
    "    \"Generate a folder_name.ipynb notebook for a folder\"\n",
    "    # Ensure it's an absolute path\n",
    "    if not folder_path.is_absolute():\n",
    "        cfg = get_config()\n",
    "        folder_path = cfg.nbs_path / folder_path\n",
    "    \n",
    "    # Check if folder exists\n",
    "    if not folder_path.exists() or not folder_path.is_dir():\n",
    "        raise ValueError(f\"Folder {folder_path} does not exist\")\n",
    "    \n",
    "    # Determine notebook path\n",
    "    nb_path = folder_path / f\"{folder_path.name}.ipynb\"\n",
    "    \n",
    "    # Check if already exists\n",
    "    if nb_path.exists() and not overwrite:\n",
    "        raise FileExistsError(f\"Notebook {nb_path} already exists. Use overwrite=True to replace.\")\n",
    "    \n",
    "    # Default title and description\n",
    "    if title is None:\n",
    "        # Convert folder name to title case\n",
    "        title = folder_path.name.replace('_', ' ').replace('-', ' ').title()\n",
    "    \n",
    "    if description is None:\n",
    "        description = f\"Notebooks and utilities for {title.lower()}\"\n",
    "    \n",
    "    # Create notebook cells\n",
    "    cells = create_folder_notebook(folder_path, title, description)\n",
    "    \n",
    "    # Create and save notebook\n",
    "    nb = new_nb(cells)\n",
    "    write_nb(nb, nb_path)\n",
    "    \n",
    "    print(f\"Created notebook: {nb_path}\")\n",
    "    return nb_path"
   ]
  },
  {
   "cell_type": "code",
   "execution_count": null,
   "id": "a915d49b-7d3f-4484-a4e3-da40d0549eec",
   "metadata": {},
   "outputs": [],
   "source": [
    "#| export\n",
    "def generate_all_folder_notebooks(base_path: Path = None, # Base path (defaults to nbs)\n",
    "                                 recursive: bool = True,  # Include nested folders\n",
    "                                 overwrite: bool = False, # Overwrite existing\n",
    "                                 dry_run: bool = False    # Just show what would be created\n",
    "                                 ) -> List[Path]:         # Created notebook paths\n",
    "    \"Generate folder notebooks for all folders that don't have them\"\n",
    "    if base_path is None:\n",
    "        cfg = get_config()\n",
    "        base_path = cfg.nbs_path\n",
    "    \n",
    "    created = []\n",
    "    subdirs = get_subdirectories(base_path, recursive=recursive)\n",
    "    \n",
    "    for folder in subdirs:\n",
    "        nb_path = folder / f\"{folder.name}.ipynb\"\n",
    "        \n",
    "        if not nb_path.exists() or overwrite:\n",
    "            if dry_run:\n",
    "                print(f\"Would create: {nb_path}\")\n",
    "            else:\n",
    "                try:\n",
    "                    path = generate_folder_notebook(folder, overwrite=overwrite)\n",
    "                    created.append(path)\n",
    "                except Exception as e:\n",
    "                    print(f\"Error creating {nb_path}: {e}\")\n",
    "        else:\n",
    "            if dry_run:\n",
    "                print(f\"Already exists: {nb_path}\")\n",
    "    \n",
    "    if not dry_run:\n",
    "        print(f\"\\nCreated {len(created)} folder notebooks\")\n",
    "    \n",
    "    return created"
   ]
  },
  {
   "cell_type": "markdown",
   "id": "3184b5d1-01da-4b6d-8331-c7dad33eb1c0",
   "metadata": {},
   "source": [
    "## Interactive Folder Notebook Generation"
   ]
  },
  {
   "cell_type": "code",
   "execution_count": null,
   "id": "ec840e52-3da2-4488-8d02-e4f50e1cdc3c",
   "metadata": {},
   "outputs": [],
   "source": [
    "#| export\n",
    "def interactive_folder_notebook_generator(base_path: Path = None  # Base path\n",
    "                                        ) -> List[Path]:          # Created notebooks\n",
    "    \"Interactively generate folder notebooks with custom titles and descriptions\"\n",
    "    if base_path is None:\n",
    "        cfg = get_config()\n",
    "        base_path = cfg.nbs_path\n",
    "    \n",
    "    created = []\n",
    "    subdirs = get_subdirectories(base_path, recursive=True)\n",
    "    \n",
    "    # Filter folders without notebooks\n",
    "    folders_without_nb = []\n",
    "    for folder in subdirs:\n",
    "        nb_path = folder / f\"{folder.name}.ipynb\"\n",
    "        if not nb_path.exists():\n",
    "            folders_without_nb.append(folder)\n",
    "    \n",
    "    if not folders_without_nb:\n",
    "        print(\"All folders already have their folder notebooks!\")\n",
    "        return created\n",
    "    \n",
    "    print(f\"Found {len(folders_without_nb)} folders without folder notebooks:\\n\")\n",
    "    \n",
    "    for i, folder in enumerate(folders_without_nb, 1):\n",
    "        rel_path = folder.relative_to(base_path)\n",
    "        print(f\"{i}. {rel_path}/\")\n",
    "    \n",
    "    print(\"\\nEnter folder numbers to create notebooks for (comma-separated, or 'all'):\")\n",
    "    choice = input(\"> \").strip()\n",
    "    \n",
    "    if choice.lower() == 'all':\n",
    "        selected_folders = folders_without_nb\n",
    "    else:\n",
    "        try:\n",
    "            indices = [int(x.strip()) - 1 for x in choice.split(',')]\n",
    "            selected_folders = [folders_without_nb[i] for i in indices if 0 <= i < len(folders_without_nb)]\n",
    "        except (ValueError, IndexError):\n",
    "            print(\"Invalid selection\")\n",
    "            return created\n",
    "    \n",
    "    # Generate notebooks for selected folders\n",
    "    for folder in selected_folders:\n",
    "        print(f\"\\n--- Creating notebook for {folder.name} ---\")\n",
    "        \n",
    "        # Ask for custom title\n",
    "        default_title = folder.name.replace('_', ' ').replace('-', ' ').title()\n",
    "        title = input(f\"Title [{default_title}]: \").strip() or default_title\n",
    "        \n",
    "        # Ask for description\n",
    "        default_desc = f\"Notebooks and utilities for {title.lower()}\"\n",
    "        description = input(f\"Description [{default_desc}]: \").strip() or default_desc\n",
    "        \n",
    "        try:\n",
    "            path = generate_folder_notebook(folder, title=title, description=description)\n",
    "            created.append(path)\n",
    "        except Exception as e:\n",
    "            print(f\"Error: {e}\")\n",
    "    \n",
    "    print(f\"\\nCreated {len(created)} folder notebooks\")\n",
    "    return created"
   ]
  },
  {
   "cell_type": "markdown",
   "id": "3ddf4559-8620-4fbd-97e7-9ad3217ac322",
   "metadata": {},
   "source": [
    "## Testing\n",
    "\n",
    "Let's test the generator functionality:"
   ]
  },
  {
   "cell_type": "code",
   "execution_count": null,
   "id": "6fc5edd3-1e05-4eb6-8fd2-e7075d1b7a12",
   "metadata": {},
   "outputs": [
    {
     "name": "stdout",
     "output_type": "stream",
     "text": [
      "Found 0 subdirectories in nbs/\n"
     ]
    }
   ],
   "source": [
    "#|eval: false\n",
    "# First, let's check if there are any folders in our project\n",
    "subdirs = get_subdirectories()\n",
    "print(f\"Found {len(subdirs)} subdirectories in nbs/\")\n",
    "for d in subdirs:\n",
    "    nb_path = d / f\"{d.name}.ipynb\"\n",
    "    exists = \"✓\" if nb_path.exists() else \"✗\"\n",
    "    print(f\"{exists} {d.name}/\")"
   ]
  },
  {
   "cell_type": "code",
   "execution_count": null,
   "id": "24002a57-61e2-4f0d-8c10-65b18806aefd",
   "metadata": {},
   "outputs": [
    {
     "name": "stdout",
     "output_type": "stream",
     "text": [
      "Created test folder: test_folder\n",
      "Created sample notebook: test_folder/sample.ipynb\n"
     ]
    }
   ],
   "source": [
    "#|eval: false\n",
    "# Create a test folder to demonstrate the functionality\n",
    "test_folder = Path(\"test_folder\")\n",
    "if not test_folder.exists():\n",
    "    test_folder.mkdir()\n",
    "    print(f\"Created test folder: {test_folder}\")\n",
    "    \n",
    "    # Create a sample notebook in the folder\n",
    "    sample_nb = test_folder / \"sample.ipynb\"\n",
    "    cells = [\n",
    "        mk_cell(\"# Sample Notebook\\n\\n> A sample notebook for testing\", cell_type='markdown'),\n",
    "        mk_cell(\"print('Hello from sample notebook!')\", cell_type='code')\n",
    "    ]\n",
    "    nb = new_nb(cells)\n",
    "    write_nb(nb, sample_nb)\n",
    "    print(f\"Created sample notebook: {sample_nb}\")\n",
    "else:\n",
    "    print(f\"Test folder already exists: {test_folder}\")"
   ]
  },
  {
   "cell_type": "code",
   "execution_count": null,
   "id": "8af34a5d-f603-4d0d-bf1a-c5c768219018",
   "metadata": {},
   "outputs": [
    {
     "name": "stdout",
     "output_type": "stream",
     "text": [
      "Created notebook: /mnt/SN850X_8TB_EXT4/Projects/GitHub/cj-mills/cjm-nbdev-overview/nbs/test_folder/test_folder.ipynb\n",
      "\n",
      "Generated notebook at: /mnt/SN850X_8TB_EXT4/Projects/GitHub/cj-mills/cjm-nbdev-overview/nbs/test_folder/test_folder.ipynb\n",
      "\n",
      "Generated notebook contents:\n",
      "--------------------------------------------------\n",
      "\n",
      "Cell 1 (markdown):\n",
      "# Test Folder\n",
      "\n",
      "> Testing folder notebook generation\n",
      "\n",
      "Cell 2 (code):\n",
      "#| default_exp test_folder.__init__\n",
      "\n",
      "Cell 3 (code):\n",
      "#| export\n",
      "# This module serves as the package root for this folder\n",
      "\n",
      "Cell 4 (markdown):\n",
      "## Overview\n",
      "\n",
      "This folder contains notebooks related to testing folder notebook generation.\n",
      "\n",
      "Cell 5 (markdown):\n",
      "## Notebooks in this folder:\n",
      "\n",
      "- `sample.ipynb`: A sample notebook for testing\n",
      "\n",
      "Cell 6 (code):\n",
      "#| hide\n",
      "import nbdev; nbdev.nbdev_export()\n"
     ]
    }
   ],
   "source": [
    "#|eval: false\n",
    "# Generate a folder notebook for the test folder\n",
    "try:\n",
    "    nb_path = generate_folder_notebook(\n",
    "        test_folder, \n",
    "        title=\"Test Folder\", \n",
    "        description=\"Testing folder notebook generation\"\n",
    "    )\n",
    "    print(f\"\\nGenerated notebook at: {nb_path}\")\n",
    "    \n",
    "    # Read and display the generated notebook content\n",
    "    nb = read_nb(nb_path)\n",
    "    print(\"\\nGenerated notebook contents:\")\n",
    "    print(\"-\" * 50)\n",
    "    for i, cell in enumerate(nb.cells):\n",
    "        print(f\"\\nCell {i+1} ({cell.cell_type}):\")\n",
    "        print(cell.source)\n",
    "except Exception as e:\n",
    "    print(f\"Error: {e}\")"
   ]
  },
  {
   "cell_type": "code",
   "execution_count": null,
   "id": "274b132c-e626-49db-aca5-75254b99eb43",
   "metadata": {},
   "outputs": [
    {
     "name": "stdout",
     "output_type": "stream",
     "text": [
      "Cleaned up test folder: test_folder\n"
     ]
    }
   ],
   "source": [
    "#|eval: false\n",
    "# Clean up test folder\n",
    "import shutil\n",
    "if test_folder.exists():\n",
    "    shutil.rmtree(test_folder)\n",
    "    print(f\"Cleaned up test folder: {test_folder}\")"
   ]
  },
  {
   "cell_type": "code",
   "execution_count": null,
   "id": "9a9c89aa-ec46-41c2-9cc6-843a65533ea1",
   "metadata": {},
   "outputs": [],
   "source": []
  },
  {
   "cell_type": "code",
   "execution_count": null,
   "id": "bfe84d92-82fe-4a55-805e-c5c4a359a489",
   "metadata": {},
   "outputs": [],
   "source": []
  },
  {
   "cell_type": "code",
   "execution_count": null,
   "id": "f8fc4315-0f76-486a-a76c-8f9a6f2ef95b",
   "metadata": {},
   "outputs": [],
   "source": []
  },
  {
   "cell_type": "code",
   "execution_count": null,
   "id": "ca2fd0f8-7e72-4012-959e-5652fb8c08e4",
   "metadata": {},
   "outputs": [],
   "source": []
  },
  {
   "cell_type": "code",
   "execution_count": null,
   "id": "7962bece-3f4a-47b3-a43d-2ac4b99b4798",
   "metadata": {},
   "outputs": [],
   "source": []
  },
  {
   "cell_type": "code",
   "execution_count": null,
   "id": "6ea36e94-1d54-4e2c-bb02-f5f17c5aa16a",
   "metadata": {},
   "outputs": [],
   "source": []
  },
  {
   "cell_type": "code",
   "execution_count": null,
   "id": "92f26cfc-695c-4d28-8fa6-a9984513b9a7",
   "metadata": {},
   "outputs": [],
   "source": []
  },
  {
   "cell_type": "code",
   "execution_count": null,
   "id": "378de577-467e-4752-9369-f2adf18843b9",
   "metadata": {},
   "outputs": [],
   "source": []
  },
  {
   "cell_type": "code",
   "execution_count": null,
   "id": "3b729251-54c7-4a87-afee-d5e54b02ee84",
   "metadata": {},
   "outputs": [],
   "source": []
  },
  {
   "cell_type": "code",
   "execution_count": null,
   "id": "cbdf1771-bd6a-4cbd-92fa-a73b59925a09",
   "metadata": {},
   "outputs": [],
   "source": []
  },
  {
   "cell_type": "code",
   "execution_count": null,
   "id": "a1a22854-a9b6-4786-bdba-c313285d084a",
   "metadata": {},
   "outputs": [],
   "source": []
  },
  {
   "cell_type": "code",
   "execution_count": null,
   "id": "b5f2c812-f99a-4bb8-ad65-575293face70",
   "metadata": {},
   "outputs": [],
   "source": []
  },
  {
   "cell_type": "code",
   "execution_count": null,
   "id": "ec4e2c6a-180e-462e-8372-f6f2aca5ee1e",
   "metadata": {},
   "outputs": [],
   "source": []
  },
  {
   "cell_type": "code",
   "execution_count": null,
   "id": "33d4bf5f-d8cc-4901-9b7b-94955ccc130e",
   "metadata": {},
   "outputs": [],
   "source": []
  },
  {
   "cell_type": "code",
   "execution_count": null,
   "id": "064acb94-d551-466b-bbc9-a506cbaa74a2",
   "metadata": {},
   "outputs": [],
   "source": []
  },
  {
   "cell_type": "code",
   "execution_count": null,
   "id": "008440ff-1155-4f4c-9685-5f66e1cd8b7f",
   "metadata": {},
   "outputs": [],
   "source": []
  },
  {
   "cell_type": "code",
   "execution_count": null,
   "id": "7f3baf67-17cf-44f2-91ae-cace86b0ba9f",
   "metadata": {},
   "outputs": [],
   "source": []
  },
  {
   "cell_type": "code",
   "execution_count": null,
   "id": "05b2d3cd-d4a3-4496-87cb-fa7bb1e1e2e7",
   "metadata": {},
   "outputs": [],
   "source": []
  },
  {
   "cell_type": "code",
   "execution_count": null,
   "id": "1338e9d9-7e89-4f6c-afc5-ec2787a610fb",
   "metadata": {},
   "outputs": [],
   "source": []
  },
  {
   "cell_type": "code",
   "execution_count": null,
   "id": "8ef5c05a-35f6-43df-896c-97a8c2258ea6",
   "metadata": {},
   "outputs": [],
   "source": []
  },
  {
   "cell_type": "code",
   "execution_count": null,
   "id": "6d31577f-d3ea-4987-a700-24ebff8cfb35",
   "metadata": {},
   "outputs": [],
   "source": []
  },
  {
   "cell_type": "code",
   "execution_count": null,
   "id": "92b555ed-a534-4f01-b634-ce8824bcc634",
   "metadata": {},
   "outputs": [],
   "source": []
  },
  {
   "cell_type": "code",
   "execution_count": null,
   "id": "f48d59a4-41a1-4d2f-b487-1324c946377f",
   "metadata": {},
   "outputs": [],
   "source": []
  },
  {
   "cell_type": "code",
   "execution_count": null,
   "id": "827bf6cf-ec81-403b-b50b-5619856d4e62",
   "metadata": {},
   "outputs": [],
   "source": []
  },
  {
   "cell_type": "code",
   "execution_count": null,
   "id": "ac196181-61a7-44a4-aa15-87f95b86e01b",
   "metadata": {},
   "outputs": [],
   "source": []
  },
  {
   "cell_type": "code",
   "execution_count": null,
   "id": "ce900ba3-ec75-483f-8817-fb4a328c2187",
   "metadata": {},
   "outputs": [],
   "source": []
  },
  {
   "cell_type": "code",
   "execution_count": null,
   "id": "e7faccd0-5f61-4631-be48-e7a8263c03e2",
   "metadata": {},
   "outputs": [],
   "source": []
  },
  {
   "cell_type": "code",
   "execution_count": null,
   "id": "186f6960-37cb-413a-a854-4c128f928f0f",
   "metadata": {},
   "outputs": [],
   "source": []
  },
  {
   "cell_type": "code",
   "execution_count": null,
   "id": "bff15053-ceda-467a-afd3-673087f5b1e6",
   "metadata": {},
   "outputs": [],
   "source": [
    "#| hide\n",
    "import nbdev; nbdev.nbdev_export()"
   ]
  }
 ],
 "metadata": {
  "kernelspec": {
   "display_name": "python3",
   "language": "python",
   "name": "python3"
  }
 },
 "nbformat": 4,
 "nbformat_minor": 5
}
