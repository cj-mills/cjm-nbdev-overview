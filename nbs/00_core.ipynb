{
 "cells": [
  {
   "cell_type": "markdown",
   "id": "79cfe05a-e6ee-48a0-b78a-a5afe2b0907d",
   "metadata": {},
   "source": [
    "# Core Utilities\n",
    "\n",
    "> Core utilities and data models for nbdev project overview generation"
   ]
  },
  {
   "cell_type": "code",
   "execution_count": null,
   "id": "5653da2e-0cc3-460f-b004-5f3b32ec2219",
   "metadata": {},
   "outputs": [],
   "source": [
    "#| default_exp core"
   ]
  },
  {
   "cell_type": "code",
   "execution_count": null,
   "id": "195dbc0b-9af5-4e88-aac4-4d2bde46862f",
   "metadata": {},
   "outputs": [],
   "source": [
    "#| export\n",
    "from __future__ import annotations\n",
    "from pathlib import Path\n",
    "from typing import Union, Dict, Any, List, Optional, Tuple\n",
    "from dataclasses import dataclass, field\n",
    "from nbdev.config import get_config\n",
    "import json\n",
    "from fastcore.basics import *\n",
    "from fastcore.imports import *"
   ]
  },
  {
   "cell_type": "markdown",
   "id": "d028d5e5-05ef-48cd-b7e1-e063e0a08220",
   "metadata": {},
   "source": [
    "## Data Models\n",
    "\n",
    "First, let's define the data models we'll use throughout the project:"
   ]
  },
  {
   "cell_type": "code",
   "execution_count": null,
   "id": "93eda07c-f6f8-49a2-ba4a-8406ef35342a",
   "metadata": {},
   "outputs": [],
   "source": [
    "#| export\n",
    "@dataclass\n",
    "class NotebookInfo:\n",
    "    \"Information about a single notebook\"\n",
    "    path: Path                              # Path to the notebook file\n",
    "    name: str                              # Notebook filename without extension\n",
    "    title: Optional[str] = None            # H1 title from first cell\n",
    "    description: Optional[str] = None      # Blockquote description from first cell\n",
    "    export_module: Optional[str] = None    # Module name from default_exp\n",
    "    \n",
    "    @property\n",
    "    def relative_path(self) -> Path:       # Path relative to nbs directory\n",
    "        \"Get path relative to nbs directory\"\n",
    "        cfg = get_config()\n",
    "        return self.path.relative_to(cfg.nbs_path)"
   ]
  },
  {
   "cell_type": "code",
   "execution_count": null,
   "id": "709405b5-67be-43ef-b559-259eed244b5d",
   "metadata": {},
   "outputs": [],
   "source": [
    "#| export\n",
    "@dataclass\n",
    "class DirectoryInfo:\n",
    "    \"Information about a directory in the nbs folder\"\n",
    "    path: Path                                      # Path to the directory\n",
    "    name: str                                       # Directory name\n",
    "    notebook_count: int = 0                         # Number of notebooks in directory\n",
    "    description: Optional[str] = None               # Description from folder's main notebook\n",
    "    subdirs: List[DirectoryInfo] = field(default_factory=list)  # Subdirectories\n",
    "    notebooks: List[NotebookInfo] = field(default_factory=list) # Notebooks in this directory\n",
    "    \n",
    "    @property\n",
    "    def total_notebook_count(self) -> int:          # Total notebooks including subdirs\n",
    "        \"Get total notebook count including subdirectories\"\n",
    "        return self.notebook_count + sum(d.total_notebook_count for d in self.subdirs)"
   ]
  },
  {
   "cell_type": "markdown",
   "id": "7f0225f3-5f58-4a11-980c-65490b77c637",
   "metadata": {},
   "source": [
    "## Path Utilities"
   ]
  },
  {
   "cell_type": "code",
   "execution_count": null,
   "id": "66ec8af0-bf53-44d0-b45c-41af99724591",
   "metadata": {},
   "outputs": [],
   "source": [
    "#| export\n",
    "def get_notebook_files(path: Path = None,           # Directory to search (defaults to nbs_path)\n",
    "                      recursive: bool = True        # Search subdirectories\n",
    "                      ) -> List[Path]:              # List of notebook paths\n",
    "    \"Get all notebook files in a directory\"\n",
    "    if path is None:\n",
    "        cfg = get_config()\n",
    "        path = cfg.nbs_path\n",
    "    \n",
    "    pattern = '**/*.ipynb' if recursive else '*.ipynb'\n",
    "    notebooks = []\n",
    "    \n",
    "    for nb_path in path.glob(pattern):\n",
    "        # Skip checkpoint notebooks and hidden files\n",
    "        if '.ipynb_checkpoints' not in str(nb_path) and not nb_path.name.startswith('.'):\n",
    "            notebooks.append(nb_path)\n",
    "    \n",
    "    return sorted(notebooks)"
   ]
  },
  {
   "cell_type": "code",
   "execution_count": null,
   "id": "fbb2a2b0-ffa5-47d7-962e-63d00802d984",
   "metadata": {},
   "outputs": [],
   "source": [
    "#| export\n",
    "def get_subdirectories(path: Path = None,           # Directory to search (defaults to nbs_path)\n",
    "                      recursive: bool = False       # Include all nested subdirectories\n",
    "                      ) -> List[Path]:              # List of directory paths\n",
    "    \"Get subdirectories in a directory\"\n",
    "    if path is None:\n",
    "        cfg = get_config()\n",
    "        path = cfg.nbs_path\n",
    "    \n",
    "    subdirs = []\n",
    "    \n",
    "    if recursive:\n",
    "        for item in path.rglob('*'):\n",
    "            if item.is_dir() and '.ipynb_checkpoints' not in str(item) and not item.name.startswith('.'):\n",
    "                subdirs.append(item)\n",
    "    else:\n",
    "        for item in path.iterdir():\n",
    "            if item.is_dir() and '.ipynb_checkpoints' not in str(item) and not item.name.startswith('.'):\n",
    "                subdirs.append(item)\n",
    "    \n",
    "    return sorted(subdirs)"
   ]
  },
  {
   "cell_type": "markdown",
   "id": "45983204-427c-415e-9251-c345318188c5",
   "metadata": {},
   "source": [
    "## Notebook Reading Utilities"
   ]
  },
  {
   "cell_type": "code",
   "execution_count": null,
   "id": "b431ab2e-c762-4577-8a92-132301314312",
   "metadata": {},
   "outputs": [],
   "source": [
    "#| export\n",
    "def read_notebook(path: Path                    # Path to notebook file\n",
    "                 ) -> Dict[str, Any]:           # Notebook content as dict\n",
    "    \"Read a notebook file and return its content\"\n",
    "    with open(path, 'r', encoding='utf-8') as f:\n",
    "        return json.load(f)"
   ]
  },
  {
   "cell_type": "code",
   "execution_count": null,
   "id": "cfb9b18b-3475-4b9f-8685-ae89649d9f56",
   "metadata": {},
   "outputs": [],
   "source": [
    "#| export\n",
    "def get_cell_source(cell: Dict[str, Any]        # Notebook cell\n",
    "                   ) -> str:                    # Cell source as string\n",
    "    \"Get source from a notebook cell\"\n",
    "    source = cell.get('source', [])\n",
    "    if isinstance(source, list):\n",
    "        return ''.join(source)\n",
    "    return source"
   ]
  },
  {
   "cell_type": "markdown",
   "id": "1f7731ba-bd56-4a5b-8cd4-60a6cd804796",
   "metadata": {},
   "source": [
    "## Testing\n",
    "\n",
    "Let's test our utilities on the current project:"
   ]
  },
  {
   "cell_type": "code",
   "execution_count": null,
   "id": "86b9e8c1-efe2-462d-aad8-1c410dd1d373",
   "metadata": {},
   "outputs": [
    {
     "name": "stdout",
     "output_type": "stream",
     "text": [
      "Found 9 notebooks:\n",
      "  - 00_core.ipynb\n",
      "  - 01_parsers.ipynb\n",
      "  - 02_tree.ipynb\n",
      "  - 03_api_docs.ipynb\n",
      "  - 04_dependencies.ipynb\n"
     ]
    }
   ],
   "source": [
    "# Test getting notebook files\n",
    "notebooks = get_notebook_files()\n",
    "print(f\"Found {len(notebooks)} notebooks:\")\n",
    "for nb in notebooks[:5]:  # Show first 5\n",
    "    print(f\"  - {nb.name}\")"
   ]
  },
  {
   "cell_type": "code",
   "execution_count": null,
   "id": "bbe0ae01-d3b6-4f38-82b2-dd2a25316d3b",
   "metadata": {},
   "outputs": [],
   "source": []
  },
  {
   "cell_type": "code",
   "execution_count": null,
   "id": "1e7224e8-0e33-402b-9c19-58bd0e4a463a",
   "metadata": {},
   "outputs": [],
   "source": []
  },
  {
   "cell_type": "code",
   "execution_count": null,
   "id": "024c8f96-f35f-4d3e-839b-13a0c043d33e",
   "metadata": {},
   "outputs": [],
   "source": []
  },
  {
   "cell_type": "code",
   "execution_count": null,
   "id": "ca192ec8-c34f-4684-b0af-590a781c41a0",
   "metadata": {},
   "outputs": [],
   "source": []
  },
  {
   "cell_type": "code",
   "execution_count": null,
   "id": "40dd140c-ce11-4236-8bc0-2255cd9e168b",
   "metadata": {},
   "outputs": [],
   "source": []
  },
  {
   "cell_type": "code",
   "execution_count": null,
   "id": "96e2ebf6-96c1-4bc7-b016-36f21232511a",
   "metadata": {},
   "outputs": [],
   "source": []
  },
  {
   "cell_type": "code",
   "execution_count": null,
   "id": "e839b058-70e7-4430-a815-4478e65db2d6",
   "metadata": {},
   "outputs": [],
   "source": []
  },
  {
   "cell_type": "code",
   "execution_count": null,
   "id": "d70f5750-6727-4758-966a-7856d7dcc76d",
   "metadata": {},
   "outputs": [],
   "source": []
  },
  {
   "cell_type": "code",
   "execution_count": null,
   "id": "87f1bc3a-9d6f-41ac-a540-78e38692d9ef",
   "metadata": {},
   "outputs": [],
   "source": []
  },
  {
   "cell_type": "code",
   "execution_count": null,
   "id": "fcf203a5-55f3-43a4-885f-e8475de0d136",
   "metadata": {},
   "outputs": [],
   "source": []
  },
  {
   "cell_type": "code",
   "execution_count": null,
   "id": "7007b5cc-b85d-43d7-8bf7-a27592729ba7",
   "metadata": {},
   "outputs": [],
   "source": []
  },
  {
   "cell_type": "code",
   "execution_count": null,
   "id": "3c199120-83d0-4c7b-add7-2e93f82c7563",
   "metadata": {},
   "outputs": [],
   "source": []
  },
  {
   "cell_type": "code",
   "execution_count": null,
   "id": "5ce484a5-2a11-484c-a04d-1151dfe4140f",
   "metadata": {},
   "outputs": [],
   "source": []
  },
  {
   "cell_type": "code",
   "execution_count": null,
   "id": "741aa2e9-9240-490e-b661-871b942f5614",
   "metadata": {},
   "outputs": [],
   "source": []
  },
  {
   "cell_type": "code",
   "execution_count": null,
   "id": "1ed2b9fa-793a-4880-899f-3a9b80324c8e",
   "metadata": {},
   "outputs": [],
   "source": []
  },
  {
   "cell_type": "code",
   "execution_count": null,
   "id": "fee1d041-51c4-4359-9ef3-0921cf427914",
   "metadata": {},
   "outputs": [],
   "source": []
  },
  {
   "cell_type": "code",
   "execution_count": null,
   "id": "1e4fcb84-99d6-4d4c-9588-78e58554216f",
   "metadata": {},
   "outputs": [],
   "source": []
  },
  {
   "cell_type": "code",
   "execution_count": null,
   "id": "d5a986a3-db9e-40a5-b406-134f53f7651f",
   "metadata": {},
   "outputs": [],
   "source": []
  },
  {
   "cell_type": "code",
   "execution_count": null,
   "id": "fb1980fc-7519-4605-ba91-dbc330674916",
   "metadata": {},
   "outputs": [],
   "source": []
  },
  {
   "cell_type": "code",
   "execution_count": null,
   "id": "ca3d2cdc-c0ef-4f0e-aa21-1b5a0061169b",
   "metadata": {},
   "outputs": [],
   "source": []
  },
  {
   "cell_type": "code",
   "execution_count": null,
   "id": "10b57a6e-2b5a-415b-8cb7-010c8eb2bf45",
   "metadata": {},
   "outputs": [],
   "source": []
  },
  {
   "cell_type": "code",
   "execution_count": null,
   "id": "72d89e71-19c9-45bd-9ef3-3e96b49eec5d",
   "metadata": {},
   "outputs": [],
   "source": []
  },
  {
   "cell_type": "code",
   "execution_count": null,
   "id": "f3c99e6f-fb31-4783-8582-54484e21ebfd",
   "metadata": {},
   "outputs": [],
   "source": []
  },
  {
   "cell_type": "code",
   "execution_count": null,
   "id": "ee473b5f-d90e-494f-bea9-85302c6b2fcb",
   "metadata": {},
   "outputs": [],
   "source": []
  },
  {
   "cell_type": "code",
   "execution_count": null,
   "id": "7d49b760-b66b-49a8-b2f1-c112e73059c7",
   "metadata": {},
   "outputs": [],
   "source": []
  },
  {
   "cell_type": "code",
   "execution_count": null,
   "id": "24c53ffb-6669-445f-8cff-7266ca178d2c",
   "metadata": {},
   "outputs": [],
   "source": []
  },
  {
   "cell_type": "code",
   "execution_count": null,
   "id": "97427ede-a446-469d-bacf-80b8c6fc8ffb",
   "metadata": {},
   "outputs": [],
   "source": []
  },
  {
   "cell_type": "code",
   "execution_count": null,
   "id": "e154bddf-de75-46b4-a778-fbf8cdfd5874",
   "metadata": {},
   "outputs": [],
   "source": []
  },
  {
   "cell_type": "code",
   "execution_count": null,
   "id": "812eb2cc-e3d8-40ad-ada0-b0b7998b04df",
   "metadata": {},
   "outputs": [],
   "source": [
    "#| hide\n",
    "import nbdev; nbdev.nbdev_export()"
   ]
  }
 ],
 "metadata": {
  "kernelspec": {
   "display_name": "python3",
   "language": "python",
   "name": "python3"
  }
 },
 "nbformat": 4,
 "nbformat_minor": 5
}
